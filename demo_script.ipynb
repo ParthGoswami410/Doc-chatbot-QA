{
 "cells": [
  {
   "cell_type": "markdown",
   "id": "29cca981",
   "metadata": {},
   "source": [
    "# 📄 Demo Script: Document Chatbot\n",
    "\n",
    "This notebook demonstrates:\n",
    "- Uploading a folder of documents\n",
    "- Asking 3 example questions\n",
    "- Getting answers with cited sources"
   ]
  },
  {
   "cell_type": "code",
   "execution_count": 2,
   "id": "e4622ad1",
   "metadata": {},
   "outputs": [
    {
     "name": "stdout",
     "output_type": "stream",
     "text": [
      "Uploading documents...\n",
      "Upload response: {'message': '2 documents processed.'}\n"
     ]
    }
   ],
   "source": [
    "import requests\n",
    "print(\"Uploading documents...\")\n",
    "folder_path = \"E:/Chatbot_App/uploaded_docs\"  # 👈 Use full path to your folder\n",
    "upload_response = requests.post(\"http://localhost:5000/upload\", data={\"folder_path\": folder_path})\n",
    "print(\"Upload response:\", upload_response.json())"
   ]
  },
  {
   "cell_type": "code",
   "execution_count": 3,
   "id": "08a05098",
   "metadata": {},
   "outputs": [
    {
     "name": "stdout",
     "output_type": "stream",
     "text": [
      "\n",
      "Q1: What is artificial intelligence?\n",
      "A1: Artificial Intelligence (AI) is the simulation of human intelligence in machines that are programmed to think and learn like humans [Context, 1]. It includes various technologies such as natural language processing, speech recognition, machine vision, and decision-making systems. These technologies enable machines to perform tasks that typically require human intelligence, such as understanding language, recognizing images, and making decisions. AI is widely used in various applications, including autonomous vehicles, recommendation engines, fraud detection, and virtual assistants like Siri and Alexa [Context, 1].\n"
     ]
    }
   ],
   "source": [
    "question_1 = \"What is artificial intelligence?\"\n",
    "resp_1 = requests.post(\"http://localhost:5000/ask\", json={\"question\": question_1})\n",
    "print(\"\\nQ1:\", question_1)\n",
    "print(\"A1:\", resp_1.json()[\"answer\"])"
   ]
  },
  {
   "cell_type": "code",
   "execution_count": 7,
   "id": "0fc2c25e",
   "metadata": {},
   "outputs": [
    {
     "name": "stdout",
     "output_type": "stream",
     "text": [
      "\n",
      "Q3: Explain LLM\n",
      "A3: Large Language Models (LLMs) are advanced AI systems [context, 1] trained on massive text datasets to understand and generate human-like language. They utilize transformer architectures and are capable of performing various tasks such as summarization, translation, question answering, and code generation [context, 1]. Some popular examples of LLMs include GPT-4, Claude, Gemini, and LLaMA [context, 1]. These models serve as the foundation for modern chatbots and AI assistants [context, 1], demonstrating their significance in the field of artificial intelligence. Overall, LLMs represent a crucial component of AI technology, enabling machines to process and generate human-like language [context, 1].\n"
     ]
    }
   ],
   "source": [
    "question_2 = \"Explain LLM\"\n",
    "resp_2 = requests.post(\"http://localhost:5000/ask\", json={\"question\": question_2})\n",
    "print(\"\\nQ3:\", question_2)\n",
    "print(\"A3:\", resp_2.json()[\"answer\"])"
   ]
  }
 ],
 "metadata": {
  "kernelspec": {
   "display_name": "Python 3",
   "language": "python",
   "name": "python3"
  },
  "language_info": {
   "codemirror_mode": {
    "name": "ipython",
    "version": 3
   },
   "file_extension": ".py",
   "mimetype": "text/x-python",
   "name": "python",
   "nbconvert_exporter": "python",
   "pygments_lexer": "ipython3",
   "version": "3.12.0"
  }
 },
 "nbformat": 4,
 "nbformat_minor": 5
}
